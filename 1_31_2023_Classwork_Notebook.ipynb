{
  "nbformat": 4,
  "nbformat_minor": 0,
  "metadata": {
    "colab": {
      "provenance": [],
      "include_colab_link": true
    },
    "kernelspec": {
      "name": "python3",
      "display_name": "Python 3"
    },
    "language_info": {
      "name": "python"
    }
  },
  "cells": [
    {
      "cell_type": "markdown",
      "metadata": {
        "id": "view-in-github",
        "colab_type": "text"
      },
      "source": [
        "<a href=\"https://colab.research.google.com/github/Mysterygo/Mysterygodweek2/blob/main/1_31_2023_Classwork_Notebook.ipynb\" target=\"_parent\"><img src=\"https://colab.research.google.com/assets/colab-badge.svg\" alt=\"Open In Colab\"/></a>"
      ]
    },
    {
      "cell_type": "markdown",
      "source": [
        "#Week of 1.24.2023: Functions Part 1\n",
        "\n"
      ],
      "metadata": {
        "id": "K3JVwUgVElwe"
      }
    },
    {
      "cell_type": "markdown",
      "source": [
        "###Section 1: Basic Structure\n"
      ],
      "metadata": {
        "id": "0R12ultbhgeY"
      }
    },
    {
      "cell_type": "markdown",
      "source": [
        "####Problem 1.1\n",
        "\n",
        "Make a class called Restaurant. The class should store two attributes: a restaurant_name and a cuisine_type.\n",
        "Make a method called describe_restaurant() that prints these two pieces of\n",
        "information, and a method called open_restaurant() that prints a message indicating that the restaurant is open.\n",
        "Make an instance called restaurant from your class. Print the two attributes individually, and then call both methods."
      ],
      "metadata": {
        "id": "y2sDRS3xzgmS"
      }
    },
    {
      "cell_type": "code",
      "source": [
        "class Restaurant:\n",
        "  restaurant_name = \"Rama's biriyani\"\n",
        "  cuisine_type = \"Indian food\"\n",
        "  def describe_restaurant(restaurant_name, cuisine_type):\n",
        "    print(f\"The name of the restaurant is\" + restaurant_name + \".\")\n",
        "    print(f\"The cuisine of the restaurant is\" + cuisine_type + \".\")\n",
        "  def open_restaurant():\n",
        "    print(\"The restaurant is open come try the best Biriyani is Seattle!.\")\n",
        "restaurant = Restaurant()\n",
        "print(restaurant.restaurant_name)\n",
        "print(restaurant.cuisine_type)"
      ],
      "metadata": {
        "id": "v6s0wcgUg9Cg",
        "outputId": "beaa7db4-7922-4a26-e41b-5888de3c1ef9",
        "colab": {
          "base_uri": "https://localhost:8080/"
        }
      },
      "execution_count": null,
      "outputs": [
        {
          "output_type": "stream",
          "name": "stdout",
          "text": [
            "Rama's biriyani\n",
            "Indian food\n"
          ]
        }
      ]
    },
    {
      "cell_type": "markdown",
      "source": [
        "####Problem 1.2\n",
        "\n",
        "Create three\n",
        "different instances from the restaurant class, and call describe_restaurant() for each instance.\n"
      ],
      "metadata": {
        "id": "iutoiN2kw8HM"
      }
    },
    {
      "cell_type": "code",
      "source": [],
      "metadata": {
        "id": "bvC20VfVw-pt"
      },
      "execution_count": null,
      "outputs": []
    },
    {
      "cell_type": "markdown",
      "source": [
        "####Problem 1.3\n",
        "\n",
        "Make a class called User. Create two attributes called first_name\n",
        "and last_name, and then create several other attributes that are typically stored\n",
        "in a user profile. Make a method called describe_user() that prints a summary\n",
        "of the user’s information. Make another method called greet_user() that prints\n",
        "a personalized greeting to the user.\n",
        "Create several instances representing different users, and call both methods\n",
        "for each user.\n"
      ],
      "metadata": {
        "id": "TlJoFhCNxIRh"
      }
    },
    {
      "cell_type": "code",
      "source": [
        "class User:\n",
        "  user_name = \"Viraj Singh\"\n",
        "  age_value = \"12 years old\"\n",
        "  experience_value = \"3 years in python\"\n",
        "  def describe_user(user_name, age_value, experience_value):\n",
        "    print(f\"The name of the user is\" + user_name + \".\")\n",
        "    print(f\"The cuisine of the restaurant is\" + age_value + \".\")\n",
        "    print(f\"His experiance is\" + experience_value + \".\")\n",
        "user = User()\n",
        "print(user.user_name)\n",
        "print(user.age_value)\n",
        "print(user.experience_value)"
      ],
      "metadata": {
        "id": "m8bxMX0pxN5m",
        "outputId": "449d03ea-8c40-4991-d1c9-c29755381bb0",
        "colab": {
          "base_uri": "https://localhost:8080/"
        }
      },
      "execution_count": null,
      "outputs": [
        {
          "output_type": "stream",
          "name": "stdout",
          "text": [
            "Viraj Singh\n",
            "12 years old\n",
            "3 years in python\n"
          ]
        }
      ]
    },
    {
      "cell_type": "markdown",
      "source": [
        "####Problem 1.4\n",
        "\n",
        "Define a Shape base class with an abstract area() method. Create instances for specific shapes (Circle, Rectangle, Triangle) implementing the area() method based on their formulas"
      ],
      "metadata": {
        "id": "lDNekKgjK_le"
      }
    },
    {
      "cell_type": "code",
      "source": [],
      "metadata": {
        "id": "iDKTmytoK-Od"
      },
      "execution_count": null,
      "outputs": []
    },
    {
      "cell_type": "markdown",
      "source": [
        "####Problem 1.5\n",
        "\n",
        "Create a Book class with title, author, genre, publication date, and methods to display information, lend a book (update status), and calculate age."
      ],
      "metadata": {
        "id": "LNE1gRd6Lbje"
      }
    },
    {
      "cell_type": "code",
      "source": [
        "class Books:\n",
        "  book_name = \"Harry Potter\"\n",
        "  author_name = \"JK Rowling\"\n",
        "  publication_date = \"1997\"\n",
        "  lend_value = \"4 copies in stock\"\n",
        "  update_status = \"3 weeks till due\"\n",
        "  def describe_book(book_name, author_name, publication_date, lend_value, update_status):\n",
        "    print(f\"The name of the book is\" + book_name + \".\")\n",
        "    print(f\"The author name is\" + author_name + \".\")\n",
        "    print(f\"The publication date is\" + publication_date + \".\")\n",
        "    print(f\"The copies available are\" + lend_value + \".\")\n",
        "    print(f\"It is due in\" + update_status + \".\")\n",
        "book = Books()\n",
        "print(book.book_name)\n",
        "print(book.author_name)\n",
        "print(book.publication_date)\n",
        "print(book.lend_value)\n",
        "print(book.update_status)"
      ],
      "metadata": {
        "id": "AEF2m-i2gz6y",
        "outputId": "66930ad5-7fd0-4f19-ad7b-c3fbad8c2223",
        "colab": {
          "base_uri": "https://localhost:8080/"
        }
      },
      "execution_count": null,
      "outputs": [
        {
          "output_type": "stream",
          "name": "stdout",
          "text": [
            "Harry Potter\n",
            "JK Rowling\n",
            "1997\n",
            "4 copies in stock\n",
            "3 weeks till due\n"
          ]
        }
      ]
    },
    {
      "cell_type": "code",
      "source": [],
      "metadata": {
        "id": "yu1DE186LcBb"
      },
      "execution_count": null,
      "outputs": []
    }
  ]
}