{
  "nbformat": 4,
  "nbformat_minor": 0,
  "metadata": {
    "colab": {
      "provenance": [],
      "include_colab_link": true
    },
    "kernelspec": {
      "name": "python3",
      "display_name": "Python 3"
    },
    "language_info": {
      "name": "python"
    }
  },
  "cells": [
    {
      "cell_type": "markdown",
      "metadata": {
        "id": "view-in-github",
        "colab_type": "text"
      },
      "source": [
        "<a href=\"https://colab.research.google.com/github/Mysterygo/Mysterygodweek2/blob/main/3_27_2024_Classwork_Notebook.ipynb\" target=\"_parent\"><img src=\"https://colab.research.google.com/assets/colab-badge.svg\" alt=\"Open In Colab\"/></a>"
      ]
    },
    {
      "cell_type": "markdown",
      "source": [
        "#Week of 3.27.2024: Try-Except\n",
        "\n",
        "\n",
        "\n"
      ],
      "metadata": {
        "id": "K3JVwUgVElwe"
      }
    },
    {
      "cell_type": "markdown",
      "source": [
        "###Section 1: Try-Except\n"
      ],
      "metadata": {
        "id": "dCKq22OE2AI9"
      }
    },
    {
      "cell_type": "markdown",
      "source": [
        "####Problem 2.1\n",
        "\n",
        "**User Input Validation:**\n",
        "Write code that takes an integer as input from the user. Use a Try-Except block to handle a ValueError if the user enters a non-numeric value. In the Except block, print an error message and ask the user to enter a valid integer again."
      ],
      "metadata": {
        "id": "UCxLZMon2itM"
      }
    },
    {
      "cell_type": "code",
      "source": [
        "x = input('put a number here: ')\n",
        "\n",
        "if x.isnumeric() == True:\n",
        "  print('ok')\n",
        "else:\n",
        "  raise ValueError('x is not numeric.')"
      ],
      "metadata": {
        "id": "ZWKThrHUfO_T",
        "outputId": "7bc19a5e-bedb-48b8-843c-8a581fc62b61",
        "colab": {
          "base_uri": "https://localhost:8080/"
        }
      },
      "execution_count": null,
      "outputs": [
        {
          "output_type": "stream",
          "name": "stdout",
          "text": [
            "put a number here: 10\n",
            "ok\n"
          ]
        }
      ]
    },
    {
      "cell_type": "markdown",
      "source": [
        "####Problem 2.2\n",
        "\n",
        "**Safe Conversion (Multiple Exceptions):** Get a string from the user. Try converting it to an integer using Try-Except. Catch both ValueError (invalid format) and ZeroDivisionError (division by zero from the conversion). Print specific error messages in each Except block."
      ],
      "metadata": {
        "id": "bZI18Ugu2qNO"
      }
    },
    {
      "cell_type": "code",
      "source": [],
      "metadata": {
        "id": "Aiqw9zQWdK4z"
      },
      "execution_count": null,
      "outputs": []
    },
    {
      "cell_type": "code",
      "source": [
        "try:\n",
        "  Hi = int(input(\"Number: \"))\n",
        "except ValueError:\n",
        "  print(\"Put in a real number.\")\n",
        "except ZeroDivisionError:\n",
        "  print(\"Not possible to divide by zero\")\n",
        "finally:\n",
        "  print(Hi)\n",
        "\n"
      ],
      "metadata": {
        "id": "NnfzYa_J3KzS",
        "outputId": "6fc47336-1aa9-4faf-83e8-017bb2c6ac32",
        "colab": {
          "base_uri": "https://localhost:8080/"
        }
      },
      "execution_count": 4,
      "outputs": [
        {
          "output_type": "stream",
          "name": "stdout",
          "text": [
            "Number: 10\n",
            "10\n"
          ]
        }
      ]
    },
    {
      "cell_type": "markdown",
      "source": [
        "###Section 2: Common Libraries\n"
      ],
      "metadata": {
        "id": "C6P9JlVPcoyH"
      }
    },
    {
      "cell_type": "markdown",
      "source": [
        "####Problem 2.1\n",
        "\n",
        "**Random:**\n",
        "Write a Python program that simulates a dice roll (random number between 1 and 6)."
      ],
      "metadata": {
        "id": "pOQqJqPBcqdX"
      }
    },
    {
      "cell_type": "code",
      "source": [
        "import random\n",
        "\n",
        "print(\"The Randomizer, click the button to begin\")\n",
        "print(random.randrange(1,6))"
      ],
      "metadata": {
        "id": "rSxYAx56czWI",
        "outputId": "38a7da69-ac0b-42aa-c833-7d777b70d6cb",
        "colab": {
          "base_uri": "https://localhost:8080/"
        }
      },
      "execution_count": null,
      "outputs": [
        {
          "output_type": "stream",
          "name": "stdout",
          "text": [
            "The Randomizer, click the button to begin\n",
            "5\n"
          ]
        }
      ]
    },
    {
      "cell_type": "markdown",
      "source": [
        "####Problem 2.2\n",
        "\n",
        "**Random:**\n",
        "Write a Python program that generates a random password of a specific length (using random.choice) containing uppercase letters, lowercase letters, and digits."
      ],
      "metadata": {
        "id": "US6nryaxc0qt"
      }
    },
    {
      "cell_type": "code",
      "source": [
        "import random\n",
        "import time\n",
        "\n",
        "print(\"The great dice roller, will roll every 3 seconds.\")\n",
        "time.sleep(3)\n",
        "while True:\n",
        "  print(random.randrange(1,6))\n",
        "time.sleep(3)"
      ],
      "metadata": {
        "id": "ukvTJjrzc51I",
        "outputId": "fb36bd46-d92a-4425-9ba2-197bddcff77c",
        "colab": {
          "base_uri": "https://localhost:8080/",
          "height": 234
        }
      },
      "execution_count": 10,
      "outputs": [
        {
          "output_type": "stream",
          "name": "stdout",
          "text": [
            "The great dice roller, will roll every 3 seconds.\n"
          ]
        },
        {
          "output_type": "error",
          "ename": "KeyboardInterrupt",
          "evalue": "",
          "traceback": [
            "\u001b[0;31m---------------------------------------------------------------------------\u001b[0m",
            "\u001b[0;31mKeyboardInterrupt\u001b[0m                         Traceback (most recent call last)",
            "\u001b[0;32m<ipython-input-10-325ede8cacbe>\u001b[0m in \u001b[0;36m<cell line: 5>\u001b[0;34m()\u001b[0m\n\u001b[1;32m      3\u001b[0m \u001b[0;34m\u001b[0m\u001b[0m\n\u001b[1;32m      4\u001b[0m \u001b[0mprint\u001b[0m\u001b[0;34m(\u001b[0m\u001b[0;34m\"The great dice roller, will roll every 3 seconds.\"\u001b[0m\u001b[0;34m)\u001b[0m\u001b[0;34m\u001b[0m\u001b[0;34m\u001b[0m\u001b[0m\n\u001b[0;32m----> 5\u001b[0;31m \u001b[0mtime\u001b[0m\u001b[0;34m.\u001b[0m\u001b[0msleep\u001b[0m\u001b[0;34m(\u001b[0m\u001b[0;36m3\u001b[0m\u001b[0;34m)\u001b[0m\u001b[0;34m\u001b[0m\u001b[0;34m\u001b[0m\u001b[0m\n\u001b[0m\u001b[1;32m      6\u001b[0m \u001b[0;32mwhile\u001b[0m \u001b[0;32mTrue\u001b[0m\u001b[0;34m:\u001b[0m\u001b[0;34m\u001b[0m\u001b[0;34m\u001b[0m\u001b[0m\n\u001b[1;32m      7\u001b[0m   \u001b[0mprint\u001b[0m\u001b[0;34m(\u001b[0m\u001b[0mrandom\u001b[0m\u001b[0;34m.\u001b[0m\u001b[0mrandrange\u001b[0m\u001b[0;34m(\u001b[0m\u001b[0;36m1\u001b[0m\u001b[0;34m,\u001b[0m\u001b[0;36m6\u001b[0m\u001b[0;34m)\u001b[0m\u001b[0;34m)\u001b[0m\u001b[0;34m\u001b[0m\u001b[0;34m\u001b[0m\u001b[0m\n",
            "\u001b[0;31mKeyboardInterrupt\u001b[0m: "
          ]
        }
      ]
    },
    {
      "cell_type": "markdown",
      "source": [
        "####Problem 2.3\n",
        "\n",
        "**Time:**\n",
        "Write a Python program that displays a countdown timer for 10 seconds (using time.sleep)."
      ],
      "metadata": {
        "id": "GIg57oWtdaA4"
      }
    },
    {
      "cell_type": "code",
      "source": [
        "import time\n",
        "\n",
        "for i in range(10,0,-1):\n",
        "  print(i)\n",
        "  time.sleep(1)"
      ],
      "metadata": {
        "id": "rbSTJNq-daS4",
        "outputId": "5a289182-0a43-479a-9174-1f6c610c2406",
        "colab": {
          "base_uri": "https://localhost:8080/"
        }
      },
      "execution_count": 11,
      "outputs": [
        {
          "output_type": "stream",
          "name": "stdout",
          "text": [
            "10\n",
            "9\n",
            "8\n",
            "7\n",
            "6\n",
            "5\n",
            "4\n",
            "3\n",
            "2\n",
            "1\n"
          ]
        }
      ]
    },
    {
      "cell_type": "markdown",
      "source": [
        "####Problem 2.4\n",
        "\n",
        "**Time:**\n",
        "Write a Python program that greets the user with a different message depending on the time of day (using time.localtime). (e.g., Good morning, Good afternoon, Good evening)"
      ],
      "metadata": {
        "id": "WG_m6ypwdbOY"
      }
    },
    {
      "cell_type": "code",
      "source": [],
      "metadata": {
        "id": "Yr1OO5togIsB",
        "outputId": "2493ce4c-2c4b-4fbf-faac-80c8dc338e70",
        "colab": {
          "base_uri": "https://localhost:8080/"
        }
      },
      "execution_count": 2,
      "outputs": [
        {
          "output_type": "stream",
          "name": "stdout",
          "text": [
            "Good afternoon!\n"
          ]
        }
      ]
    },
    {
      "cell_type": "code",
      "source": [
        "def greet_user():\n",
        "  x = (time.localtime().tm_hour - 7) % 24\n",
        "\n",
        "  if x < 0:\n",
        "    x += 24\n",
        "\n",
        "  if 5 <= x < 12:\n",
        "    print(\"Good morning!\")\n",
        "  elif 12 <= x < 18:\n",
        "    print(\"Good afternoon\")\n",
        "  elif 18 <= x < 22:\n",
        "    print(\"Good evening\")\n",
        "  else:\n",
        "    print(\"Hi it is too late\")\n",
        "\n",
        "greet_user()"
      ],
      "metadata": {
        "id": "-0K_WsBDeYyA",
        "outputId": "ed998885-c832-4e8d-cb9b-c663837b041f",
        "colab": {
          "base_uri": "https://localhost:8080/"
        }
      },
      "execution_count": 8,
      "outputs": [
        {
          "output_type": "stream",
          "name": "stdout",
          "text": [
            "Good afternoon\n"
          ]
        }
      ]
    },
    {
      "cell_type": "code",
      "source": [
        "import time\n",
        "\n",
        "#def greet_user():\n",
        "    #current_time = int(input(\"Please enter the current hour: \"))\n",
        "    #if 5 <= current_time < 12:\n",
        "        #print(\"Good morning!\")\n",
        "    #elif 12 <= current_time < 18:\n",
        "        #print(\"Good afternoon!\")\n",
        "    #elif 18 <= current_time < 22:\n",
        "        #print(\"Good evening!\")\n",
        "    #else:\n",
        "        #print(\"Hi! It is too late, sleep!\")\n",
        "\n",
        "greet_user()"
      ],
      "metadata": {
        "id": "7pOtvxxBdcA4",
        "outputId": "5532c405-7974-4e81-d5d4-1a528d09a728",
        "colab": {
          "base_uri": "https://localhost:8080/"
        }
      },
      "execution_count": 8,
      "outputs": [
        {
          "output_type": "stream",
          "name": "stdout",
          "text": [
            "Please enter the current hour: 25\n",
            "Hi! It is too late, sleep!\n"
          ]
        }
      ]
    },
    {
      "cell_type": "markdown",
      "source": [
        "####Problem 2.5\n",
        "\n",
        "**Challenge**:\n",
        "Create a program that generates secure random passwords. The program should prompt the user for the desired password length, ensuring it's greater than 10 characters for better security. Utilize functions to generate random selections from various character sets, including lowercase and uppercase letters, numbers, and symbols. Include at least one character from each set to enhance strength.\n",
        "\n",
        "After that, fill the remaining password length with characters randomly chosen from the combined set. To thwart predictability, implement a shuffle function to randomize the order of characters in the final password.\n",
        "\n",
        "Display the generated password on the screen. Make sure the password is prompted to be reset every 90 days. Add more features if you wish!"
      ],
      "metadata": {
        "id": "-TNR6uFPjFOj"
      }
    },
    {
      "cell_type": "code",
      "source": [],
      "metadata": {
        "id": "qKxtFFQnjetO"
      },
      "execution_count": null,
      "outputs": []
    }
  ]
}