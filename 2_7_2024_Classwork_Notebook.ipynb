{
  "nbformat": 4,
  "nbformat_minor": 0,
  "metadata": {
    "colab": {
      "provenance": [],
      "include_colab_link": true
    },
    "kernelspec": {
      "name": "python3",
      "display_name": "Python 3"
    },
    "language_info": {
      "name": "python"
    }
  },
  "cells": [
    {
      "cell_type": "markdown",
      "metadata": {
        "id": "view-in-github",
        "colab_type": "text"
      },
      "source": [
        "<a href=\"https://colab.research.google.com/github/Mysterygo/Mysterygodweek2/blob/main/2_7_2024_Classwork_Notebook.ipynb\" target=\"_parent\"><img src=\"https://colab.research.google.com/assets/colab-badge.svg\" alt=\"Open In Colab\"/></a>"
      ]
    },
    {
      "cell_type": "markdown",
      "source": [
        "#Week of 2.7.2023: Functions Part 2\n",
        "\n"
      ],
      "metadata": {
        "id": "K3JVwUgVElwe"
      }
    },
    {
      "cell_type": "markdown",
      "source": [
        "###Section 1: Basic Structure\n"
      ],
      "metadata": {
        "id": "0R12ultbhgeY"
      }
    },
    {
      "cell_type": "markdown",
      "source": [
        "####Problem 1.1\n",
        "\n",
        "Create an Animal class with attributes name, species, age, and is_adopted. Use init to set these attributes from input values."
      ],
      "metadata": {
        "id": "TlJoFhCNxIRh"
      }
    },
    {
      "cell_type": "code",
      "source": [],
      "metadata": {
        "id": "v6s0wcgUg9Cg"
      },
      "execution_count": null,
      "outputs": []
    },
    {
      "cell_type": "markdown",
      "source": [
        "####Problem 1.2\n",
        "\n",
        "Create a Movie class with attributes title, year, director, genre, and rating. Use __init__ to set these attributes from input values.\n",
        "Create methods in the Movie class to print the movie's information and calculate its age based on the current year."
      ],
      "metadata": {
        "id": "y2sDRS3xzgmS"
      }
    },
    {
      "cell_type": "code",
      "source": [
        "class Movie:\n",
        "  \"\"\"Creates a unique film object\"\"\"\n",
        "\n",
        "  def __init__(self, title, year, director, genre, rating):\n",
        "    \"\"\"Initializing object with attributes\"\"\"\n",
        "    self.title = title\n",
        "    self.year = year\n",
        "    self.director = director\n",
        "    self.genre = genre\n",
        "    self.rating = rating #out of 10\n",
        "\n",
        "\n",
        "  def describe_movie(self):\n",
        "    \"\"\"Prints the title, year, director, genre, and rating of a film/movie\"\"\"\n",
        "    print(\"Title: \" + self.title)\n",
        "    print(\"Year: \" + str(self.year))\n",
        "    print(\"Director: \" + self.director)\n",
        "    print(\"Genre: \" + self.genre)\n",
        "    print(\"Rating: \" + str(self.rating))\n",
        "\n",
        "\n",
        "  def age_of_movie(self):\n",
        "    \"\"\"Calculates current age of a movie and prints it\"\"\"\n",
        "    age = 2024-int(self.year)\n",
        "    print(age)\n",
        "\n",
        "new_movie = Movie(\"Inception\", \"2004\", \"Christopher Nolan\", \"Sci-fi\", 9)\n",
        "new_movie.describe_movie()\n",
        "new_movie.age_of_movie()"
      ],
      "metadata": {
        "id": "bvC20VfVw-pt",
        "colab": {
          "base_uri": "https://localhost:8080/"
        },
        "outputId": "7d80c159-794b-4950-f1c0-a7a2fbecb6c9"
      },
      "execution_count": null,
      "outputs": [
        {
          "output_type": "stream",
          "name": "stdout",
          "text": [
            "Title: Inception\n",
            "Year: 2004\n",
            "Director: Christopher Nolan\n",
            "Genre: Sci-fi\n",
            "Rating: 9\n",
            "20\n"
          ]
        }
      ]
    },
    {
      "cell_type": "markdown",
      "source": [
        "####Problem 1.3\n",
        "\n",
        "Create a Dish class with attributes name, description, price, and is_vegetarian. Use init to set these attributes from input values.\n",
        "Create methods in the Dish class to print the dish's information and check if it's vegetarian.\n",
        "\n",
        "Create a separate Menu list class that stores a list of Dish objects."
      ],
      "metadata": {
        "id": "iutoiN2kw8HM"
      }
    },
    {
      "cell_type": "code",
      "source": [
        "class Dish():\n",
        "  def __init__(self, name, description, price, is_vegitarian):\n",
        "    self.name = name\n",
        "    self.description = description\n",
        "    self.price = price\n",
        "    self.is_vegtiarian = is_vegitarian\n",
        "\n",
        "  def dish_information(self):\n",
        "    print(\"Name of dish:\" + self.name)\n",
        "    print(\"Description:\" + self.description)\n",
        "    print(\"Price\" + str(self.price))\n",
        "    print(\"Vegetarian:\" + self.is_vegtiarian)\n",
        "\n",
        "new_dish = Dish(\"Daal Chaval\", \"Indian Delicacy\", \"15.99\", \"Yes\")\n",
        "new_dish.dish_information()\n",
        "\n"
      ],
      "metadata": {
        "id": "m8bxMX0pxN5m",
        "colab": {
          "base_uri": "https://localhost:8080/"
        },
        "outputId": "6f4d4ca5-e022-4d4b-b8a8-c8bed22b0ae6"
      },
      "execution_count": 8,
      "outputs": [
        {
          "output_type": "stream",
          "name": "stdout",
          "text": [
            "Name of dish:Daal Chaval\n",
            "Description:Indian Delicacy\n",
            "Price15.99\n",
            "Vegetarian:Yes\n"
          ]
        }
      ]
    },
    {
      "cell_type": "markdown",
      "source": [
        "###Section 2: Basic Structure\n"
      ],
      "metadata": {
        "id": "iOTGkKjoPeoW"
      }
    },
    {
      "cell_type": "markdown",
      "source": [
        "####Problem 2.1\n",
        "\n",
        " Make a class called Restaurant. The init method for\n",
        "Restaurant should store two attributes: a restaurant_name and a cuisine_type."
      ],
      "metadata": {
        "id": "KFswEq4SPgAv"
      }
    },
    {
      "cell_type": "code",
      "source": [
        "class Restaurant():\n",
        "  def __init__(self, restaurant_name, cuisine_type):\n",
        "    self.restaurant_name = restaurant_name\n",
        "    self.cuisine_type = cuisine_type\n",
        "\n",
        "  def describe_restaurant(self):\n",
        "    print(\"The restaurant name is:\" + self.restaurant_name)\n",
        "    print(\"The cuisine type is:\" + self.cuisine_type)\n",
        "\n",
        "new_restaurant = Restaurant(\"Olive Garden\", \"Italian\")\n",
        "new_restaurant.describe_restaurant()"
      ],
      "metadata": {
        "id": "_3erEK2iPhjM",
        "colab": {
          "base_uri": "https://localhost:8080/"
        },
        "outputId": "070a0605-2081-4b9f-d6ad-bc16c748cfa3"
      },
      "execution_count": 2,
      "outputs": [
        {
          "output_type": "stream",
          "name": "stdout",
          "text": [
            "The restaurant name is:Olive Garden\n",
            "The cuisine type is:Italian\n"
          ]
        }
      ]
    },
    {
      "cell_type": "markdown",
      "source": [
        "####Problem 2.2\n",
        "\n",
        "Add an attribute called number_served with a default value of 0. Create an\n",
        "instance called restaurant from this class. Print the number of customers the\n",
        "restaurant has served, and then change this value and print it again."
      ],
      "metadata": {
        "id": "8KUMcGljPrsi"
      }
    },
    {
      "cell_type": "code",
      "source": [
        "class Restaurant():\n",
        "  def __init__(self, restaurant_name, cuisine_type, customers_served):\n",
        "    self.restaurant_name = restaurant_name\n",
        "    self.cuisine_type = cuisine_type\n",
        "    self.customers_served = customers_served\n",
        "\n",
        "  def describe_restaurant(self):\n",
        "    print(\"The restaurant name is:\" + self.restaurant_name)\n",
        "    print(\"The cuisine type is:\" + self.cuisine_type)\n",
        "    print(\"The customers served is:\" + str(self.customers_served))\n",
        "\n",
        "new_restaurant = Restaurant(\"Olive Garden\", \"Italian\", \"10\")\n",
        "new_restaurant.describe_restaurant()"
      ],
      "metadata": {
        "id": "GTyD5ug_P6X4",
        "colab": {
          "base_uri": "https://localhost:8080/"
        },
        "outputId": "c2eedf12-6084-4b54-efbe-a6c4c3e54f76"
      },
      "execution_count": 1,
      "outputs": [
        {
          "output_type": "stream",
          "name": "stdout",
          "text": [
            "The restaurant name is:Olive Garden\n",
            "The cuisine type is:Italian\n",
            "The customers served is:10\n"
          ]
        }
      ]
    },
    {
      "cell_type": "markdown",
      "source": [
        "####Problem 2.3\n",
        "\n",
        "Add a method called increment_number_served() that lets you increment\n",
        "the number of customers who’ve been served. Call this method with any number you like that could represent how many customers were served in, say, a\n",
        "day of business"
      ],
      "metadata": {
        "id": "siT23DLRP7PT"
      }
    },
    {
      "cell_type": "code",
      "source": [],
      "metadata": {
        "id": "dOF5EIhjP_25"
      },
      "execution_count": null,
      "outputs": []
    },
    {
      "cell_type": "markdown",
      "source": [
        "####Problem 2.4\n",
        "\n",
        "Make a class called User. Create two attributes called first_name and\n",
        "and last_name. Make a method called describe_user() that prints a summary of the user’s information. Make another method called greet_user() that prints a personalized greeting to the user."
      ],
      "metadata": {
        "id": "esNUNFmqQBA1"
      }
    },
    {
      "cell_type": "code",
      "source": [
        "class User:\n",
        "  def __init__(self, first_name, last_name):\n",
        "    self.first_name = first_name\n",
        "    self.last_name = last_name\n",
        "\n",
        "  def greet_user(self):\n",
        "    print(\"Hello: \" + self.first_name + self.last_name)\n",
        "    print(\"What would you like to do today?\")\n",
        "\n",
        "user_credentials = User(\"Viraj\", \"Singh\")\n",
        "user_credentials.greet_user()"
      ],
      "metadata": {
        "id": "HlIt5LXrQLXg",
        "colab": {
          "base_uri": "https://localhost:8080/"
        },
        "outputId": "4f2165d6-8b6a-4e11-904e-a96ac8729193"
      },
      "execution_count": 21,
      "outputs": [
        {
          "output_type": "stream",
          "name": "stdout",
          "text": [
            "Hello: VirajSingh\n",
            "What would you like to do today?\n"
          ]
        }
      ]
    },
    {
      "cell_type": "markdown",
      "source": [
        "####Problem 2.4\n",
        "\n",
        "Add an attribute called login_attempts to your User\n",
        ". Write a method called increment_\n",
        "login_attempts() that increments the value of login_attempts by 1. Write\n",
        "another method called reset_login_attempts() that resets the value of login_\n",
        "attempts to 0."
      ],
      "metadata": {
        "id": "zI-QOZRbQTYx"
      }
    },
    {
      "cell_type": "code",
      "source": [
        "class User:\n",
        "  def __init__(self, first_name, last_name, login_attempts):\n",
        "    self.first_name = first_name\n",
        "    self.last_name = last_name\n",
        "    self.login_attempts = login_attempts\n",
        "\n",
        "  def greet_user(self):\n",
        "    print(\"Hello: \" + self.first_name + self.last_name)\n",
        "    print(\"What would you like to do today?\")\n",
        "    print(\"Login Attempts: \" + str(self.login_attempts))\n",
        "\n",
        "  def reset_login_attempts(self):\n",
        "    reset = self.login_attempts = 0\n",
        "    print(reset)\n",
        "user_credentials = User(\"Viraj\", \"Singh\", \"3\")\n",
        "user_credentials.greet_user()\n",
        "#user_credentials.reset_login_attempts()"
      ],
      "metadata": {
        "id": "P3bTPOmOQeYH",
        "colab": {
          "base_uri": "https://localhost:8080/"
        },
        "outputId": "51930ae7-6af8-430a-d1f2-d1e367f4905b"
      },
      "execution_count": 4,
      "outputs": [
        {
          "output_type": "stream",
          "name": "stdout",
          "text": [
            "Hello: VirajSingh\n",
            "What would you like to do today?\n",
            "Login Attempts: 3\n",
            "0\n"
          ]
        }
      ]
    }
  ]
}