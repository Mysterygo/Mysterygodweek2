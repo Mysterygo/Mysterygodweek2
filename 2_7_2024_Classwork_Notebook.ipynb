{
  "nbformat": 4,
  "nbformat_minor": 0,
  "metadata": {
    "colab": {
      "provenance": [],
      "include_colab_link": true
    },
    "kernelspec": {
      "name": "python3",
      "display_name": "Python 3"
    },
    "language_info": {
      "name": "python"
    }
  },
  "cells": [
    {
      "cell_type": "markdown",
      "metadata": {
        "id": "view-in-github",
        "colab_type": "text"
      },
      "source": [
        "<a href=\"https://colab.research.google.com/github/Mysterygo/Mysterygodweek2/blob/main/2_7_2024_Classwork_Notebook.ipynb\" target=\"_parent\"><img src=\"https://colab.research.google.com/assets/colab-badge.svg\" alt=\"Open In Colab\"/></a>"
      ]
    },
    {
      "cell_type": "markdown",
      "source": [
        "#Week of 2.7.2023: Functions Part 2\n",
        "\n"
      ],
      "metadata": {
        "id": "K3JVwUgVElwe"
      }
    },
    {
      "cell_type": "markdown",
      "source": [
        "###Section 1: Basic Structure\n"
      ],
      "metadata": {
        "id": "0R12ultbhgeY"
      }
    },
    {
      "cell_type": "markdown",
      "source": [
        "####Problem 1.1\n",
        "\n",
        "Create an Animal class with attributes name, species, age, and is_adopted. Use init to set these attributes from input values."
      ],
      "metadata": {
        "id": "TlJoFhCNxIRh"
      }
    },
    {
      "cell_type": "code",
      "source": [
        "class Animals:\n",
        "  def __init__(self, name, species, age,  is_adopted):\n",
        "    self.name = name\n",
        "    self.species = species\n",
        "    self.age = age\n",
        "    self.is_adopted = is_adopted\n",
        "\n",
        "  def describe_animal(self):\n",
        "\n",
        "    print(\"Name: \" + self.name)\n",
        "    print(\"Species: \" + self.species)\n",
        "    print(\"Age: \" + str(self.age))\n",
        "    print(\"Adopted: \" + self.is_adopted)\n",
        "\n",
        "new_animal = Animals(\"Rufus\", \"Golden Retriever\", \"3\", \"No\")\n",
        "new_animal.describe_animal()\n"
      ],
      "metadata": {
        "id": "v6s0wcgUg9Cg",
        "colab": {
          "base_uri": "https://localhost:8080/"
        },
        "outputId": "6afd9697-afad-43f0-bd91-7dc11ab1f4b6"
      },
      "execution_count": 1,
      "outputs": [
        {
          "output_type": "stream",
          "name": "stdout",
          "text": [
            "Name: Rufus\n",
            "Species: Golden Retriever\n",
            "Age: 3\n",
            "Adopted: No\n"
          ]
        }
      ]
    },
    {
      "cell_type": "markdown",
      "source": [
        "####Problem 1.2\n",
        "\n",
        "Create a Movie class with attributes title, year, director, genre, and rating. Use __init__ to set these attributes from input values.\n",
        "Create methods in the Movie class to print the movie's information and calculate its age based on the current year."
      ],
      "metadata": {
        "id": "y2sDRS3xzgmS"
      }
    },
    {
      "cell_type": "code",
      "source": [
        "class Movies:\n",
        "  def __init__(self, title, year, director, genre, rating):\n",
        "    self.title = title\n",
        "    self.year = year\n",
        "    self.director = director\n",
        "    self.genre = genre\n",
        "    self.rating = rating\n",
        "\n",
        "  def describe_movie(self):\n",
        "\n",
        "    print(\"Title: \" + self.title)\n",
        "    print(\"Year: \" + str(self.year))\n",
        "    print(\"Director: \" + self.director)\n",
        "    print(\"Genre: \" + self.genre)\n",
        "    print(\"Rating: \" + str(self.rating))\n",
        "  def age_of_movie(self):\n",
        "\n",
        "    age = 2024-int(self.year)\n",
        "    print(age)\n",
        "\n",
        "new_movie = Movies(\"Mission Impossible\", \"2001\", \"Tom Cruise\", \"Suspense\", \"9\")\n",
        "new_movie.describe_movie()\n",
        "new_movie.age_of_movie()"
      ],
      "metadata": {
        "id": "bvC20VfVw-pt",
        "colab": {
          "base_uri": "https://localhost:8080/"
        },
        "outputId": "585564a5-6dca-4d5a-85ac-d2dd064886e9"
      },
      "execution_count": 9,
      "outputs": [
        {
          "output_type": "stream",
          "name": "stdout",
          "text": [
            "Title: Mission Impossible\n",
            "Year: 2001\n",
            "Director: Tom Cruise\n",
            "Genre: Suspense\n",
            "Rating: 9\n",
            "23\n"
          ]
        }
      ]
    },
    {
      "cell_type": "markdown",
      "source": [
        "####Problem 1.3\n",
        "\n",
        "Create a Dish class with attributes name, description, price, and is_vegetarian. Use init to set these attributes from input values.\n",
        "Create methods in the Dish class to print the dish's information and check if it's vegetarian.\n",
        "\n",
        "Create a separate Menu list class that stores a list of Dish objects."
      ],
      "metadata": {
        "id": "iutoiN2kw8HM"
      }
    },
    {
      "cell_type": "code",
      "source": [
        "\n"
      ],
      "metadata": {
        "id": "m8bxMX0pxN5m"
      },
      "execution_count": null,
      "outputs": []
    },
    {
      "cell_type": "markdown",
      "source": [
        "###Section 2: Basic Structure\n"
      ],
      "metadata": {
        "id": "iOTGkKjoPeoW"
      }
    },
    {
      "cell_type": "markdown",
      "source": [
        "####Problem 2.1\n",
        "\n",
        " Make a class called Restaurant. The init method for\n",
        "Restaurant should store two attributes: a restaurant_name and a cuisine_type."
      ],
      "metadata": {
        "id": "KFswEq4SPgAv"
      }
    },
    {
      "cell_type": "code",
      "source": [
        "class Restaurant:\n",
        "  restaurant_name = \"Rama's biriyani\"\n",
        "  cuisine_type = \"Indian food\"\n",
        "  def describe_restaurant(restaurant_name, cuisine_type):\n",
        "    print(f\"The name of the restaurant is\" + restaurant_name + \".\")\n",
        "    print(f\"The cuisine of the restaurant is\" + cuisine_type + \".\")\n",
        "  def open_restaurant():\n",
        "    print(\"The restaurant is open come try the best Biriyani is Seattle!.\")\n",
        "restaurant = Restaurant()\n",
        "print(restaurant.restaurant_name)\n",
        "print(restaurant.cuisine_type)"
      ],
      "metadata": {
        "id": "_3erEK2iPhjM",
        "colab": {
          "base_uri": "https://localhost:8080/"
        },
        "outputId": "725cba13-fad6-40fd-b913-88e75b05899e"
      },
      "execution_count": 1,
      "outputs": [
        {
          "output_type": "stream",
          "name": "stdout",
          "text": [
            "Rama's biriyani\n",
            "Indian food\n"
          ]
        }
      ]
    },
    {
      "cell_type": "markdown",
      "source": [
        "####Problem 2.2\n",
        "\n",
        "Add an attribute called number_served with a default value of 0. Create an\n",
        "instance called restaurant from this class. Print the number of customers the\n",
        "restaurant has served, and then change this value and print it again."
      ],
      "metadata": {
        "id": "8KUMcGljPrsi"
      }
    },
    {
      "cell_type": "code",
      "source": [
        "class leet:\n",
        "    def __init__(self):\n",
        "        # Initialize the dictionary in the __init__ method\n",
        "        self.my_translator = {'Leet': '133t', 'Hi': '|-|i', 'D': '|}'}\n",
        "\n",
        "    def find_value(self, key):\n",
        "        # Check if the key is present in the dictionary\n",
        "        if key in self.my_translator:\n",
        "            print(f\"The leet word for '{key}' is: {self.my_translator[key]}\")\n",
        "        else:\n",
        "            print(f\"The english word '{key}' cannot be not found in the translator.\")\n",
        "\n",
        "# Create an instance of the class\n",
        "my_instance = leet()\n",
        "\n",
        "# Taking user input for the key\n",
        "leet_input = input(\"Enter an english word to find its leet inverse: \")\n",
        "\n",
        "# Calling the method with user input\n",
        "my_instance.find_value(leet_input)\n",
        "\n",
        "\n"
      ],
      "metadata": {
        "id": "GTyD5ug_P6X4",
        "colab": {
          "base_uri": "https://localhost:8080/"
        },
        "outputId": "b5248483-aaff-4be2-9301-69ccca833f6c"
      },
      "execution_count": 56,
      "outputs": [
        {
          "output_type": "stream",
          "name": "stdout",
          "text": [
            "Enter an english word to find its leet inverse: D\n",
            "The leet word for 'D' is: |}\n"
          ]
        }
      ]
    },
    {
      "cell_type": "markdown",
      "source": [
        "####Problem 2.3\n",
        "\n",
        "Add a method called increment_number_served() that lets you increment\n",
        "the number of customers who’ve been served. Call this method with any number you like that could represent how many customers were served in, say, a\n",
        "day of business"
      ],
      "metadata": {
        "id": "siT23DLRP7PT"
      }
    },
    {
      "cell_type": "code",
      "source": [
        "class Tickets:\n",
        "  def __init__(self, name_of_show, number_of_tickets, seats, time):\n",
        "    self.name_of_show = name_of_show\n",
        "    self.number_of_tickets = number_of_tickets\n",
        "    self.seats = seats\n",
        "    self.time = time\n",
        "\n",
        "  def information_in_ticket(self):\n",
        "\n",
        "    print(\"Name of Movie: \" + self.name_of_show)\n",
        "    print(\"Amount of tickets: \" + str(self.number_of_tickets))\n",
        "    print(\"Seats: \" + str(self.seats))\n",
        "    print(\"Time: \" + str(self.time))\n",
        "  def price_of_tickets(self):\n",
        "\n",
        "    price = 15.99*int(self.number_of_tickets)\n",
        "    print(price)\n",
        "\n",
        "tickets_value = Tickets(\"Animal\", \"3\", \"C10, C11, C12\", \"6:00\")\n",
        "tickets_value.information_in_ticket()\n",
        "tickets_value.price_of_tickets()"
      ],
      "metadata": {
        "id": "dOF5EIhjP_25",
        "colab": {
          "base_uri": "https://localhost:8080/"
        },
        "outputId": "f46c77f3-e002-407f-e30f-1fd7430e55cd"
      },
      "execution_count": 6,
      "outputs": [
        {
          "output_type": "stream",
          "name": "stdout",
          "text": [
            "Name of Movie: Animal\n",
            "Amount of tickets: 3\n",
            "Seats: C10, C11, C12\n",
            "Time: 6:00\n",
            "47.97\n"
          ]
        }
      ]
    },
    {
      "cell_type": "markdown",
      "source": [
        "####Problem 2.4\n",
        "\n",
        "Make a class called User. Create two attributes called first_name and\n",
        "and last_name. Make a method called describe_user() that prints a summary of the user’s information. Make another method called greet_user() that prints a personalized greeting to the user."
      ],
      "metadata": {
        "id": "esNUNFmqQBA1"
      }
    },
    {
      "cell_type": "code",
      "source": [
        "class User:\n",
        "  user_name = \"Viraj Singh\"\n",
        "  age_value = \"12 years old\"\n",
        "  experience_value = \"3 years in python\"\n",
        "  def describe_user(user_name, age_value, experience_value):\n",
        "    print(f\"The name of the user is\" + user_name + \".\")\n",
        "    print(f\"The cuisine of the restaurant is\" + age_value + \".\")\n",
        "    print(f\"His experiance is\" + experience_value + \".\")\n",
        "user = User()\n",
        "print(user.user_name)\n",
        "print(user.age_value)\n",
        "print(user.experience_value)"
      ],
      "metadata": {
        "id": "HlIt5LXrQLXg"
      },
      "execution_count": null,
      "outputs": []
    },
    {
      "cell_type": "markdown",
      "source": [
        "####Problem 2.4\n",
        "\n",
        "Add an attribute called login_attempts to your User\n",
        ". Write a method called increment_\n",
        "login_attempts() that increments the value of login_attempts by 1. Write\n",
        "another method called reset_login_attempts() that resets the value of login_\n",
        "attempts to 0."
      ],
      "metadata": {
        "id": "zI-QOZRbQTYx"
      }
    },
    {
      "cell_type": "code",
      "source": [
        "class LeetConverter:\n",
        "    def __init__(self):\n",
        "        # Define the Leet code mappings\n",
        "        self.english_to_leet = {\n",
        "            'a': '4',\n",
        "            'b': '8',\n",
        "            'e': '3',\n",
        "            'g': '9',\n",
        "            'l': '1',\n",
        "            'o': '0',\n",
        "            's': '5',\n",
        "            't': '7',\n",
        "        }\n",
        "        # Create the reverse mapping for English to Leet\n",
        "        self.leet_to_english = {v: k for k, v in self.english_to_leet.items()}\n",
        "\n",
        "    def to_english(self, leet_text):\n",
        "        \"\"\"\n",
        "        Converts Leet code to English.\n",
        "        \"\"\"\n",
        "        english_text = ''\n",
        "        for char in leet_text.lower():\n",
        "            english_text += self.leet_to_english.get(char, char)\n",
        "        return english_text\n",
        "\n",
        "    def to_leet(self, english_text):\n",
        "        \"\"\"\n",
        "        Converts English to Leet code.\n",
        "        \"\"\"\n",
        "        leet_text = ''\n",
        "        for char in english_text.lower():\n",
        "            leet_text += self.english_to_leet.get(char, char)\n",
        "        return leet_text\n",
        "\n",
        "# Example usage\n",
        "converter = LeetConverter()\n",
        "leet_text = \"h3ll0 w0r1d\"\n",
        "english_text = converter.to_english(leet_text)\n",
        "print(f\"Leet to English: {english_text}\")\n",
        "\n",
        "english_text = \"hello world\"\n",
        "leet_text = converter.to_leet(english_text)\n",
        "print(f\"English to Leet: {leet_text}\")"
      ],
      "metadata": {
        "id": "P3bTPOmOQeYH",
        "colab": {
          "base_uri": "https://localhost:8080/"
        },
        "outputId": "038e3b4b-7540-4715-9f76-e4fc43ec8ba7"
      },
      "execution_count": 2,
      "outputs": [
        {
          "output_type": "stream",
          "name": "stdout",
          "text": [
            "Leet to English: hello world\n",
            "English to Leet: h3110 w0r1d\n"
          ]
        }
      ]
    }
  ]
}