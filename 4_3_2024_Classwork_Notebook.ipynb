{
  "nbformat": 4,
  "nbformat_minor": 0,
  "metadata": {
    "colab": {
      "provenance": [],
      "include_colab_link": true
    },
    "kernelspec": {
      "name": "python3",
      "display_name": "Python 3"
    },
    "language_info": {
      "name": "python"
    }
  },
  "cells": [
    {
      "cell_type": "markdown",
      "metadata": {
        "id": "view-in-github",
        "colab_type": "text"
      },
      "source": [
        "<a href=\"https://colab.research.google.com/github/Mysterygo/Mysterygodweek2/blob/main/4_3_2024_Classwork_Notebook.ipynb\" target=\"_parent\"><img src=\"https://colab.research.google.com/assets/colab-badge.svg\" alt=\"Open In Colab\"/></a>"
      ]
    },
    {
      "cell_type": "markdown",
      "source": [
        "##Week of 4.3.2024: Pygame\n",
        "\n",
        "\n",
        "\n"
      ],
      "metadata": {
        "id": "K3JVwUgVElwe"
      }
    },
    {
      "cell_type": "markdown",
      "source": [
        "####Problem 1.1\n",
        "\n",
        "**Text Display and Positioning:**\n",
        "Create a program that displays multiple lines of text at different positions on the screen."
      ],
      "metadata": {
        "id": "ePhz-PxCUDA5"
      }
    },
    {
      "cell_type": "code",
      "source": [
        "import pygame\n",
        "\n",
        "# Define some colors\n",
        "BLACK = (0, 0, 0)\n",
        "WHITE = (255, 255, 255)\n",
        "\n",
        "# Initialize Pygame\n",
        "pygame.init()\n",
        "\n",
        "# Set the screen size\n",
        "screen_width = 640\n",
        "screen_height = 480\n",
        "screen = pygame.display.set_mode((screen_width, screen_height))\n",
        "\n",
        "# Set the window title\n",
        "pygame.display.set_caption(\"Multiple Text Lines\")\n",
        "\n",
        "# Update the display\n",
        "pygame.display.flip()\n",
        "\n",
        "# Load a font\n",
        "font = pygame.font.SysFont(None, 32)\n",
        "\n",
        "# Define some text and positions\n",
        "text1 = \"This is the first line of text.\"\n",
        "text2 = \"This is the second line at a different position.\"\n",
        "text1_pos = (50, 50)  # Top left corner for first line\n",
        "text2_pos = (200, 150)  # Centered position for second line\n",
        "\n",
        "# Game loop\n",
        "running = False\n",
        "while running:\n",
        "    for event in pygame.event.get():\n",
        "        if event.type == pygame.QUIT:\n",
        "            running = False\n",
        "\n",
        "    # Clear the screen\n",
        "    screen.fill(BLACK)\n",
        "\n",
        "    # Render and display text at positions\n",
        "    text_surface1 = font.render(text1, True, WHITE)\n",
        "    text_surface2 = font.render(text2, True, WHITE)\n",
        "    screen.blit(text_surface1, text1_pos)\n",
        "    text_rect2 = text_surface2.get_rect(center=text2_pos)  # Center the second line\n",
        "    screen.blit(text_surface2, text_rect2)\n",
        "\n",
        "    # Update the display\n",
        "    pygame.display.update()\n",
        "\n",
        "# Quit Pygame\n",
        "pygame.quit()"
      ],
      "metadata": {
        "id": "3rS4kxcTUJK1"
      },
      "execution_count": 6,
      "outputs": []
    },
    {
      "cell_type": "markdown",
      "source": [
        "####Problem 1. 2\n",
        "\n",
        "**Text Display and Positioning:**\n",
        "Develop a program where the color of the displayed rectangle changes periodically."
      ],
      "metadata": {
        "id": "RRj-Nn8RUqWL"
      }
    },
    {
      "cell_type": "code",
      "source": [],
      "metadata": {
        "id": "sVKo17xdUy09"
      },
      "execution_count": null,
      "outputs": []
    },
    {
      "cell_type": "markdown",
      "source": [
        "####Problem 1.3\n",
        "\n",
        "**Moving a Shape with Keyboard Input:**\n",
        "Create a simple program that displays a shape (e.g., a rectangle) on the screen. Allow the user to move the shape using arrow keys or WASD keys."
      ],
      "metadata": {
        "id": "g4PQr7nLUkj1"
      }
    },
    {
      "cell_type": "code",
      "source": [],
      "metadata": {
        "id": "V2MVv0uRX_Zh"
      },
      "execution_count": null,
      "outputs": []
    },
    {
      "cell_type": "markdown",
      "source": [
        "####Problem 1.4\n",
        "**Clicking to Draw:**\n",
        "Develop a program where the user can click on the screen, and each click creates a shape at the clicked position."
      ],
      "metadata": {
        "id": "wv0ClwKJUKDK"
      }
    },
    {
      "cell_type": "code",
      "source": [],
      "metadata": {
        "id": "-vR3dwAkUKc7"
      },
      "execution_count": null,
      "outputs": []
    }
  ]
}