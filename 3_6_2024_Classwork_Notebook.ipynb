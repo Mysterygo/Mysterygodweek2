{
  "nbformat": 4,
  "nbformat_minor": 0,
  "metadata": {
    "colab": {
      "provenance": [],
      "include_colab_link": true
    },
    "kernelspec": {
      "name": "python3",
      "display_name": "Python 3"
    },
    "language_info": {
      "name": "python"
    }
  },
  "cells": [
    {
      "cell_type": "markdown",
      "metadata": {
        "id": "view-in-github",
        "colab_type": "text"
      },
      "source": [
        "<a href=\"https://colab.research.google.com/github/Mysterygo/Mysterygodweek2/blob/main/3_6_2024_Classwork_Notebook.ipynb\" target=\"_parent\"><img src=\"https://colab.research.google.com/assets/colab-badge.svg\" alt=\"Open In Colab\"/></a>"
      ]
    },
    {
      "cell_type": "markdown",
      "source": [
        "#Week of 2.28.2023: Classes Part 4\n",
        "\n"
      ],
      "metadata": {
        "id": "K3JVwUgVElwe"
      }
    },
    {
      "cell_type": "markdown",
      "source": [
        "###Section 1: Basic Inheritance\n"
      ],
      "metadata": {
        "id": "0R12ultbhgeY"
      }
    },
    {
      "cell_type": "markdown",
      "source": [
        "####Problem 1.1\n",
        "\n",
        "Create a parent class called Restaurant with attributes like name and cuisine. An ice cream stand is a specific kind of restaurant. Write a class called IceCreamStand that inherits from the Restaurant class Add an attribute called\n",
        "flavors that stores a list of ice cream flavors. Write a method that displays\n",
        "these flavors. Create an instance of IceCreamStand, and call this method."
      ],
      "metadata": {
        "id": "KUMb3-UGB2hm"
      }
    },
    {
      "cell_type": "code",
      "source": [
        "class Restaurant:\n",
        "  def __init__(self, name, cuisine):\n",
        "    self.name = name\n",
        "    self.cuisine = cuisine\n",
        "\n",
        "class IceCreamStand(Restaurant):\n",
        "  def __init__(self, name, cuisine, flavors):\n",
        "    Restaurant.__init__(self, name, cuisine)\n",
        "    self.flavors = flavors\n",
        "\n",
        "Icecream = IceCreamStand(\"Neopolitan\", \"Dessert\", \"Strawberry, chocolate, vanilla\")\n",
        "new_restaurant = Restaurant(\"Chicken\", \"Appetizer\")\n",
        "\n",
        "print(f\"My favorite ice cream is {Icecream.name}, which is a {Icecream.cuisine}, containing {Icecream.flavors}\")\n",
        "print(f\"My favorite cuisine is {new_restaurant.name}, which is a {new_restaurant.cuisine}\")"
      ],
      "metadata": {
        "colab": {
          "base_uri": "https://localhost:8080/"
        },
        "id": "vr_-uadtfSDO",
        "outputId": "35ee4034-23d5-415c-ceb8-4e38302acad7"
      },
      "execution_count": null,
      "outputs": [
        {
          "output_type": "stream",
          "name": "stdout",
          "text": [
            "My favorite ice cream is Neopolitan, which is a Dessert, containing Strawberry, chocolate, vanilla\n",
            "My favorite cuisine is Chicken, which is a Appetizer\n"
          ]
        }
      ]
    },
    {
      "cell_type": "code",
      "source": [
        "class Movies:\n",
        "  def __init__(self, name, rating, year):\n",
        "    self.name = name\n",
        "    self.rating = rating\n",
        "    self.year = year\n",
        "\n",
        "class Oscar_Nominees(Movies):\n",
        "  def __init__(self, name, rating, year, main_actor, tomato_meter):\n",
        "    Movies.__init__(self, name, rating, year)\n",
        "    self.main_actor = main_actor\n",
        "    self.tomato_meter = tomato_meter\n",
        "\n",
        "Nom_1 = Oscar_Nominees(\"Barbie\", \"PG-13\", 2023, \"Margot Robbie\", 88)\n",
        "Nom_2 = Oscar_Nominees(\"Oppenheimer\", \"PG-13\", 2023, \"Cillan Murphy\", 93)\n",
        "Nom_3 = Oscar_Nominees(\"Mission Impossible 7\", \"PG-13\", 2023, \"Tom Cruise\", 96)\n",
        "\n",
        "print(f\"The Oscar Nominees of 2024 are: {Nom_1.name}, {Nom_2.name}, and {Nom_3.name}\")\n",
        "print(f\"The main actors of these movies are: {Nom_1.main_actor}, {Nom_2.main_actor}, and {Nom_3.main_actor}\")\n",
        "print(f\"The winner for best picture with an outstanding score of {Nom_3.tomato_meter}, {Nom_3.name}!\")\n",
        "print(f\"Thank you for watching the 2024 Oscars!\")\n"
      ],
      "metadata": {
        "id": "t_4TVJPTr9-o",
        "outputId": "2c479b14-b2a3-4b43-e565-f4faa69ca11d",
        "colab": {
          "base_uri": "https://localhost:8080/"
        }
      },
      "execution_count": 12,
      "outputs": [
        {
          "output_type": "stream",
          "name": "stdout",
          "text": [
            "The Oscar Nominees of 2024 are: Barbie, Oppenheimer, and Mission Impossible 7\n",
            "The main actors of these movies are: Margot Robbie, Cillan Murphy, and Tom Cruise\n",
            "The winner for best picture with an outstanding score of 96, Mission Impossible 7!\n",
            "Thank you for watching the 2024 Oscars!\n"
          ]
        }
      ]
    },
    {
      "cell_type": "code",
      "source": [
        "class Movies:\n",
        "  def __init__(self, name, genre, rating, date):\n",
        "    self.name = name\n",
        "    self.genre = genre\n",
        "    self.rating = rating\n",
        "    self.date = date\n",
        "\n",
        "  def describe_movie(self):\n",
        "    print(\"The Oscar winner is: \" + (self.name))\n",
        "    print(f\"The genre of the movie is: \" + (self.genre))\n",
        "    print(f\"The rating is: \" + (self.rating))\n",
        "    print(f\"The year of release is: \" + str(self.date))\n",
        "\n",
        "Winner = Movies(\"Oppenheimer\", \"Thriller\", \"PG-13\", 2023)\n",
        "\n",
        "Winner.describe_movie()"
      ],
      "metadata": {
        "id": "EjdrrumAB3EH",
        "outputId": "b286fd9d-8f96-4c8e-81da-e0b3831479ba",
        "colab": {
          "base_uri": "https://localhost:8080/"
        }
      },
      "execution_count": 9,
      "outputs": [
        {
          "output_type": "stream",
          "name": "stdout",
          "text": [
            "The Oscar winner is: Oppenheimer\n",
            "The genre of the movie is: Thriller\n",
            "The rating is: PG-13\n",
            "The year of release is: 2023\n"
          ]
        }
      ]
    },
    {
      "cell_type": "markdown",
      "source": [
        "####Problem 1.2\n",
        "\n",
        "Create a parent class called User with attributes like last name, first name and username. An administrator is a special kind of user. Write a class called\n",
        "Admin that inherits from the User class. Add an attribute, privileges, that stores a list of strings like \"can add post\", \"can delete post\", \"can ban user\", and so on. Write a method called show_privileges() that lists the administrator’s set of privileges. Create an instance of Admin, and call your method."
      ],
      "metadata": {
        "id": "KFswEq4SPgAv"
      }
    },
    {
      "cell_type": "code",
      "source": [
        "class User:\n",
        "  def __init__(self, last_name, first_name, username):\n",
        "    self.last_name = last_name\n",
        "    self.first_name = first_name\n",
        "    self.username = username\n",
        "\n",
        "class Admin(User):\n",
        "  def __init__(self, last_name, first_name, username, privileges):\n",
        "    User.__init__(self, last_name, first_name, username)\n",
        "    self.privileges = privileges\n",
        "\n",
        "def show_privileges(self):\n",
        "  print(self.privileges)\n",
        "\n",
        "Guy = User(\"Ronaldo\", \"Cristiano\", \"CR7\")\n",
        "God = Admin(\"James\", \"Lebron\", \"KingJames\",['canbanuser', 'candelete post'])\n",
        "\n",
        "print(f\"Displaying Admin user's privileges: \\n Name: {God.username} , \\n Privileges are: {God.privileges}\")"
      ],
      "metadata": {
        "id": "_3erEK2iPhjM",
        "colab": {
          "base_uri": "https://localhost:8080/"
        },
        "outputId": "cb06d82d-1f12-4002-8f31-b3e4c948c6e3"
      },
      "execution_count": null,
      "outputs": [
        {
          "output_type": "stream",
          "name": "stdout",
          "text": [
            "Displaying Admin user's privileges: \n",
            " Name: KingJames , \n",
            " Privileges are: ['canbanuser', 'candelete post']\n"
          ]
        }
      ]
    },
    {
      "cell_type": "markdown",
      "source": [
        "####Problem 1.3\n",
        "\n",
        "Create a base class Character with attributes like name, health, and attack.\n",
        "Create child classes Warrior, Mage, and Archer inheriting from Character.\n",
        "Add specific attributes and methods to each child class:\n",
        "\n",
        "*   Warrior: strenght_level, melee_attack()\n",
        "*   Mage: wisdom_level, cast_spell()\n",
        "*   Archer: experience_level, ranged_attack()\n",
        "\n",
        "Implement a describe_character() method in each child class with specific damage calculations based on attributes.\n",
        "\n"
      ],
      "metadata": {
        "id": "EiGXdjc3fY9K"
      }
    },
    {
      "cell_type": "code",
      "source": [
        "class Character:\n",
        "  def __init__(self, name, health, attack):\n",
        "    self.name = name\n",
        "    self.health = health\n",
        "    self.attack = attack\n",
        "\n",
        "class Warrior(Character):\n",
        "  def __init__(self, name, health, attack, strength_level, melee_attack):\n",
        "    Character.__init__(self, name, health, attack)\n",
        "    self.strength_level = strength_level\n",
        "    self.melee_attack = melee_attack\n",
        "\n",
        "class Mage(Character):\n",
        "  def __init__(self, name, health, attack, wisdom_level, cast_spell):\n",
        "    Character.__init__(self, name, health, attack)\n",
        "    self.wisdom_level = wisdom_level\n",
        "    self.cast_spell = cast_spell\n",
        "\n",
        "class Archer(Character):\n",
        "  def __init__(self, name, health, attack, experience_level, ranged_attack):\n",
        "    Character.__init__(self, name, health, attack)\n",
        "    self.experience_level = experience_level\n",
        "    self.ranged_attack = ranged_attack\n",
        "\n",
        "Fighter = Warrior(\"Steph Curry\", 300, 150, \"Level 25\", 50)\n",
        "Clash_of_clans = Archer(\"Goldy\", 150, 100, \"Level 10\", 120)\n",
        "\n",
        "\n"
      ],
      "metadata": {
        "id": "VuZ1f5MTf7_x"
      },
      "execution_count": null,
      "outputs": []
    },
    {
      "cell_type": "markdown",
      "source": [
        "###Section 2: Advanced Inheritance\n"
      ],
      "metadata": {
        "id": "dCKq22OE2AI9"
      }
    },
    {
      "cell_type": "markdown",
      "source": [
        "####Problem 2.1\n",
        "\n",
        "**Multiple Inheritance:** Create classes Employee and Student, each with their own attributes and methods. Then, create a class WorkingStudent that inherits from both Employee and Student. Implement methods to calculate the total income and workload of a WorkingStudent."
      ],
      "metadata": {
        "id": "UCxLZMon2itM"
      }
    },
    {
      "cell_type": "code",
      "source": [
        "class Employee:\n",
        "  def __init__(self, position, age):\n",
        "    self.position = position\n",
        "    self.age = age\n",
        "\n",
        "class Student:\n",
        "  def __init__(self, grade, years_old):\n",
        "    self.grade = grade\n",
        "    self.years_old = years_old\n",
        "\n",
        "class WorkingStudent(Student):\n",
        "  def __init__(self, grade, years_old, workload):\n",
        "    Student.__init__(self, grade, years_old)\n",
        "    self.workload = workload\n",
        "\n",
        "class WorkingEmployee(Employee):\n",
        "  def __init__(self, position, age, salary):\n",
        "    Employee.__init__(self, position, age)\n",
        "    self.salary = salary\n",
        "    def income_of_person(self):\n",
        "      income = 10*int(self.salary)\n",
        "\n",
        "Worker = WorkingEmployee(\"Teacher\", 30, 12000)\n",
        "Worker.income_of_person()\n",
        "\n"
      ],
      "metadata": {
        "id": "SiU_oMtD2ocg",
        "outputId": "7a31c58b-dbf6-40d2-a902-065e895163e1",
        "colab": {
          "base_uri": "https://localhost:8080/",
          "height": 193
        }
      },
      "execution_count": 3,
      "outputs": [
        {
          "output_type": "error",
          "ename": "AttributeError",
          "evalue": "'WorkingEmployee' object has no attribute 'income_of_person'",
          "traceback": [
            "\u001b[0;31m---------------------------------------------------------------------------\u001b[0m",
            "\u001b[0;31mAttributeError\u001b[0m                            Traceback (most recent call last)",
            "\u001b[0;32m<ipython-input-3-75211ed5dfd2>\u001b[0m in \u001b[0;36m<cell line: 24>\u001b[0;34m()\u001b[0m\n\u001b[1;32m     22\u001b[0m \u001b[0;34m\u001b[0m\u001b[0m\n\u001b[1;32m     23\u001b[0m \u001b[0mWorker\u001b[0m \u001b[0;34m=\u001b[0m \u001b[0mWorkingEmployee\u001b[0m\u001b[0;34m(\u001b[0m\u001b[0;34m\"Teacher\"\u001b[0m\u001b[0;34m,\u001b[0m \u001b[0;36m30\u001b[0m\u001b[0;34m,\u001b[0m \u001b[0;36m12000\u001b[0m\u001b[0;34m)\u001b[0m\u001b[0;34m\u001b[0m\u001b[0;34m\u001b[0m\u001b[0m\n\u001b[0;32m---> 24\u001b[0;31m \u001b[0mWorker\u001b[0m\u001b[0;34m.\u001b[0m\u001b[0mincome_of_person\u001b[0m\u001b[0;34m(\u001b[0m\u001b[0;34m)\u001b[0m\u001b[0;34m\u001b[0m\u001b[0;34m\u001b[0m\u001b[0m\n\u001b[0m\u001b[1;32m     25\u001b[0m \u001b[0;34m\u001b[0m\u001b[0m\n",
            "\u001b[0;31mAttributeError\u001b[0m: 'WorkingEmployee' object has no attribute 'income_of_person'"
          ]
        }
      ]
    },
    {
      "cell_type": "markdown",
      "source": [
        "####Problem 2.2\n",
        "\n",
        "**Multilevel Inheritance:** Create a class Vehicle with attributes like make and model. Then, create a class Car that inherits from Vehicle and adds attributes like number_of_doors. Finally, create an ElectricCar class that inherits from Car and adds attributes like battery_range. Implement methods to display information for each class."
      ],
      "metadata": {
        "id": "bZI18Ugu2qNO"
      }
    },
    {
      "cell_type": "code",
      "source": [
        "class Vehicle:\n",
        "  def __init__(self, make, model):\n",
        "    self.make = make\n",
        "    self.model = model\n",
        "\n",
        "class Car(Vehicle):\n",
        "  def __init__(self, make, model, number_of_doors):\n",
        "    Vehicle.__init__(self, make, model)\n",
        "    self.number_of_doors = number_of_doors\n",
        "\n",
        "class ElectricCar(Car):\n",
        "  def __init__(self, make, model, number_of_doors, battery_range):\n",
        "    Car.__init__(self, make, model, number_of_doors)\n",
        "    self.battery_range = battery_range\n",
        "\n",
        "Apollo = ElectricCar(\"Tesla\", \"Model X\", 4, \"350 miles\")\n",
        "Vandana = Car(\"Honda\", \"CRV\", 4)\n",
        "Bicycle = Vehicle(\"Trek\", \"Fuel Exe 8\")\n",
        "\n",
        "print(f\"You have three options: a {Apollo.make} {Apollo.model}, a {Vandana.make} {Vandana.model}, or the cheapest: {Bicycle.make} {Bicycle.model}\")\n"
      ],
      "metadata": {
        "id": "NnfzYa_J3KzS",
        "colab": {
          "base_uri": "https://localhost:8080/"
        },
        "outputId": "71e4ff9c-4d6e-4d06-f907-48063c650000"
      },
      "execution_count": null,
      "outputs": [
        {
          "output_type": "stream",
          "name": "stdout",
          "text": [
            "You have three options: a Tesla Model X, a Honda CRV, or the cheapest: Trek Fuel Exe 8\n"
          ]
        }
      ]
    },
    {
      "cell_type": "markdown",
      "source": [
        "####Problem 2.3\n",
        "\n",
        "**Hierarchial Inheritance:** Shape and Square and Rectangle: Create a base class Shape with methods to calculate area and perimeter. Then, create separate classes Square and Rectangle that inherit from Shape and implement their specific area and perimeter calculations."
      ],
      "metadata": {
        "id": "W0-FxY0g3NoP"
      }
    },
    {
      "cell_type": "code",
      "source": [
        "class Shape:\n",
        " def __init__(self, length, width, use):\n",
        "  self.length = length\n",
        "  self.width = width\n",
        "  self.use\n",
        "\n",
        "def area_of_shape(self):\n",
        "    \"\"\"Calculates current age of a movie and prints it\"\"\"\n",
        "    area = int(self.length)*int(self.width)\n",
        "    print(area)\n",
        "\n",
        "\n",
        "Square = (4, 4,\"Playpen\")\n",
        "Square.area_of_shape()"
      ],
      "metadata": {
        "id": "hGqKE-1V3czQ",
        "colab": {
          "base_uri": "https://localhost:8080/",
          "height": 176
        },
        "outputId": "a7d47fa3-7aa2-4c02-cc3e-bddb40bada4e"
      },
      "execution_count": 3,
      "outputs": [
        {
          "output_type": "error",
          "ename": "AttributeError",
          "evalue": "'tuple' object has no attribute 'area_of_shape'",
          "traceback": [
            "\u001b[0;31m---------------------------------------------------------------------------\u001b[0m",
            "\u001b[0;31mAttributeError\u001b[0m                            Traceback (most recent call last)",
            "\u001b[0;32m<ipython-input-3-5f8e8b24b77c>\u001b[0m in \u001b[0;36m<cell line: 14>\u001b[0;34m()\u001b[0m\n\u001b[1;32m     12\u001b[0m \u001b[0;34m\u001b[0m\u001b[0m\n\u001b[1;32m     13\u001b[0m \u001b[0mSquare\u001b[0m \u001b[0;34m=\u001b[0m \u001b[0;34m(\u001b[0m\u001b[0;36m4\u001b[0m\u001b[0;34m,\u001b[0m \u001b[0;36m4\u001b[0m\u001b[0;34m,\u001b[0m\u001b[0;34m\"Playpen\"\u001b[0m\u001b[0;34m)\u001b[0m\u001b[0;34m\u001b[0m\u001b[0;34m\u001b[0m\u001b[0m\n\u001b[0;32m---> 14\u001b[0;31m \u001b[0mSquare\u001b[0m\u001b[0;34m.\u001b[0m\u001b[0marea_of_shape\u001b[0m\u001b[0;34m(\u001b[0m\u001b[0;34m)\u001b[0m\u001b[0;34m\u001b[0m\u001b[0;34m\u001b[0m\u001b[0m\n\u001b[0m",
            "\u001b[0;31mAttributeError\u001b[0m: 'tuple' object has no attribute 'area_of_shape'"
          ]
        }
      ]
    },
    {
      "cell_type": "markdown",
      "source": [
        "####Problem 2.4\n",
        "\n",
        "**Hybrid Inheritance (advanced)**: Shape and ColoredShape and ColoredCircle: Create classes Shape, ColoredShape, and ColoredCircle. Shape has methods for calculating area and perimeter. ColoredShape has an attribute color. ColoredCircle inherits from both and calculates the area of a colored circle."
      ],
      "metadata": {
        "id": "DHcKAQZI3eBF"
      }
    },
    {
      "cell_type": "code",
      "source": [],
      "metadata": {
        "id": "J4W21HVn3i92"
      },
      "execution_count": null,
      "outputs": []
    }
  ]
}