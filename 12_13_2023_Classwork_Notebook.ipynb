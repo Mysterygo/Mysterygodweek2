{
  "nbformat": 4,
  "nbformat_minor": 0,
  "metadata": {
    "colab": {
      "provenance": [],
      "collapsed_sections": [
        "nlLXEG6dOMnH"
      ],
      "include_colab_link": true
    },
    "kernelspec": {
      "name": "python3",
      "display_name": "Python 3"
    },
    "language_info": {
      "name": "python"
    }
  },
  "cells": [
    {
      "cell_type": "markdown",
      "metadata": {
        "id": "view-in-github",
        "colab_type": "text"
      },
      "source": [
        "<a href=\"https://colab.research.google.com/github/Mysterygo/Mysterygodweek2/blob/main/12_13_2023_Classwork_Notebook.ipynb\" target=\"_parent\"><img src=\"https://colab.research.google.com/assets/colab-badge.svg\" alt=\"Open In Colab\"/></a>"
      ]
    },
    {
      "cell_type": "markdown",
      "source": [
        "**Week of 1.10.2023: while loop**\n",
        "---\n",
        "\n",
        "<br>\n",
        "\n",
        "<br>\n"
      ],
      "metadata": {
        "id": "K3JVwUgVElwe"
      }
    },
    {
      "cell_type": "markdown",
      "source": [
        "#### **Problem #1.1**\n",
        "\n",
        "**Together**, let's make a code counting from 1 to 10:"
      ],
      "metadata": {
        "id": "4EgRMGgY7J-X"
      }
    },
    {
      "cell_type": "code",
      "source": [
        "count = 1\n",
        "my_list = []\n",
        "\n",
        "while count <= 10:\n",
        "  my_list.append(count)\n",
        "  count+=1\n",
        "print(my_list)\n"
      ],
      "metadata": {
        "id": "CWf_p9qSzIhz",
        "outputId": "de029e41-69ce-4a65-9097-7c34f2ea6e96",
        "colab": {
          "base_uri": "https://localhost:8080/"
        }
      },
      "execution_count": null,
      "outputs": [
        {
          "output_type": "stream",
          "name": "stdout",
          "text": [
            "[1, 2, 3, 4, 5, 6, 7, 8, 9, 10]\n"
          ]
        }
      ]
    },
    {
      "cell_type": "markdown",
      "source": [
        "#### **Problem #1.2**\n",
        "\n",
        "**Independently**, print even numbers from 2 to 20"
      ],
      "metadata": {
        "id": "abpwzk4TzH2K"
      }
    },
    {
      "cell_type": "code",
      "source": [
        "count = 2\n",
        "my_list = []\n",
        "\n",
        "while count <= 20:\n",
        "  my_list.append(count)\n",
        "  count+=2\n",
        "print(my_list)\n"
      ],
      "metadata": {
        "id": "i5mYh_8YzPbq",
        "outputId": "613855a7-d773-41fe-deb6-0adbf7721298",
        "colab": {
          "base_uri": "https://localhost:8080/"
        }
      },
      "execution_count": null,
      "outputs": [
        {
          "output_type": "stream",
          "name": "stdout",
          "text": [
            "[2, 4, 6, 8, 10, 12, 14, 16, 18, 20]\n"
          ]
        }
      ]
    },
    {
      "cell_type": "markdown",
      "source": [
        "#### **Problem #1.3**\n",
        "\n",
        "**Independently**, print a countdown from 10 to 1!"
      ],
      "metadata": {
        "id": "QjumVEPtzOqv"
      }
    },
    {
      "cell_type": "code",
      "source": [
        "count = 10\n",
        "my_list = []\n",
        "\n",
        "while count >= 1:\n",
        "  my_list.append(count)\n",
        "  count-=1\n",
        "print(my_list)\n"
      ],
      "metadata": {
        "id": "T8xD_JEjY5yf",
        "outputId": "3caeb6e5-c0fb-455c-af23-c9f7cfdacc05",
        "colab": {
          "base_uri": "https://localhost:8080/"
        }
      },
      "execution_count": null,
      "outputs": [
        {
          "output_type": "stream",
          "name": "stdout",
          "text": [
            "[10, 9, 8, 7, 6, 5, 4, 3, 2, 1]\n"
          ]
        }
      ]
    },
    {
      "cell_type": "markdown",
      "source": [
        "#### **Problem #1.4**\n",
        "\n",
        "**Independently**, printing a multiplication table for a given number using input"
      ],
      "metadata": {
        "id": "0ifmUjCtzgff"
      }
    },
    {
      "cell_type": "code",
      "source": [
        "x = input(\"Give a number:\")\n",
        "def Multiplication(x):\n",
        "  return x+x\n",
        "  print(x)\n",
        "\n"
      ],
      "metadata": {
        "id": "xV7vkpZaziCZ",
        "outputId": "facca832-733f-4e33-a7a1-c54316ecd836",
        "colab": {
          "base_uri": "https://localhost:8080/"
        }
      },
      "execution_count": 1,
      "outputs": [
        {
          "name": "stdout",
          "output_type": "stream",
          "text": [
            "Give a number:4\n"
          ]
        }
      ]
    },
    {
      "cell_type": "markdown",
      "source": [
        "#### **Problem #1.5**\n",
        "\n",
        "**Independently**, find the average of a list of numbers!"
      ],
      "metadata": {
        "id": "y2sDRS3xzgmS"
      }
    },
    {
      "cell_type": "code",
      "source": [
        "# Python program to get average of a list\n",
        "def Average(lst):\n",
        "    return sum(lst) / len(lst)\n",
        "\n",
        "# Driver Code\n",
        "lst = [17, 20, 55, 41, 35, 20, 62, 49]\n",
        "average = Average(lst)\n",
        "\n",
        "# Printing average of the list\n",
        "print(\"Average of the list =\", round(average, 2))"
      ],
      "metadata": {
        "id": "M_valyg_DcXC",
        "outputId": "8d6860f5-c842-4442-ab26-b0780ca115e6",
        "colab": {
          "base_uri": "https://localhost:8080/"
        }
      },
      "execution_count": null,
      "outputs": [
        {
          "output_type": "stream",
          "name": "stdout",
          "text": [
            "Average of the list = 37.38\n"
          ]
        }
      ]
    },
    {
      "cell_type": "markdown",
      "source": [
        "#### **Problem #1.6**\n",
        "\n",
        "**Together**, move items from one list to another!"
      ],
      "metadata": {
        "id": "utgvh-r6Db6C"
      }
    },
    {
      "cell_type": "code",
      "source": [
        "# initializing lists\n",
        "test_list1 = [4, 5, 6, 7, 3, 8]\n",
        "test_list2 = [7, 6, 3, 8, 10, 12]\n",
        "\n",
        "# printing original lists\n",
        "print(\"The original list 1 is : \" + str(test_list1))\n",
        "print(\"The original list 2 is : \" + str(test_list2))\n",
        "\n",
        "# Moving an element from one list to another\n",
        "element = 10\n",
        "index = test_list2.index(element)\n",
        "del test_list2[index]\n",
        "test_list1.append(element)\n",
        "\n",
        "# Printing result\n",
        "print(\"The list 1 after insert is : \" + str(test_list1))\n",
        "print(\"The list 2 after remove is : \" + str(test_list2))"
      ],
      "metadata": {
        "id": "VabJfp7rDrTd",
        "outputId": "ad3eac2d-edf8-4848-f9ed-6b95e1502dcb",
        "colab": {
          "base_uri": "https://localhost:8080/"
        }
      },
      "execution_count": null,
      "outputs": [
        {
          "output_type": "stream",
          "name": "stdout",
          "text": [
            "The original list 1 is : [4, 5, 6, 7, 3, 8]\n",
            "The original list 2 is : [7, 6, 3, 8, 10, 12]\n",
            "The list 1 after insert is : [4, 5, 6, 7, 3, 8, 10]\n",
            "The list 2 after remove is : [7, 6, 3, 8, 12]\n"
          ]
        }
      ]
    },
    {
      "cell_type": "markdown",
      "source": [
        "#### **Problem #1.7**\n",
        "Files append"
      ],
      "metadata": {
        "id": "z6kyVN-GDqu2"
      }
    },
    {
      "cell_type": "code",
      "source": [
        "f = open('viraj.txt', 'w')\n",
        "f.write(\"1, 2, 3, 4, 5, 6, 7, 8, 9, 10, 11, ..., 49, 50 +\")\n",
        "f.close\n",
        "f = open('viraj.txt', 'r')\n",
        "print(f.read(100))\n",
        "\n",
        "v = open('code.txt', 'w')\n",
        "v.write(\"51, 52, 53, 54, 55, 56, ..., 98, 99, 100\")\n",
        "v.close\n",
        "v = open('code.txt', 'r')\n",
        "print(v.read())"
      ],
      "metadata": {
        "id": "evaf9YAgEY_x",
        "outputId": "e6144f25-f72c-40f1-ab8e-907ecb3511c2",
        "colab": {
          "base_uri": "https://localhost:8080/"
        }
      },
      "execution_count": null,
      "outputs": [
        {
          "output_type": "stream",
          "name": "stdout",
          "text": [
            "1, 2, 3, 4, 5, 6, 7, 8, 9, 10, 11, ..., 49, 50 +\n",
            "51, 52, 53, 54, 55, 56, ..., 98, 99, 100\n"
          ]
        }
      ]
    },
    {
      "cell_type": "code",
      "source": [],
      "metadata": {
        "id": "XdWn1Igc8BrL"
      },
      "execution_count": null,
      "outputs": []
    },
    {
      "cell_type": "markdown",
      "source": [
        "#### **Password Generator**\n",
        "\n",
        "**Together**, fill a dictionary with user input!"
      ],
      "metadata": {
        "id": "pJdE31B1EYUn"
      }
    },
    {
      "cell_type": "code",
      "source": [
        "f = open('text.txt', 'w')\n",
        "f.write('hello world 2!')\n",
        "f.close()\n",
        "\n",
        "f  = open('text.txt', 'r')\n",
        "print(f.read())\n",
        "f.close()"
      ],
      "metadata": {
        "id": "Zs0oeDtVzinH",
        "outputId": "9d2c7a9b-8e34-48ea-946a-f2a967c88423",
        "colab": {
          "base_uri": "https://localhost:8080/"
        }
      },
      "execution_count": null,
      "outputs": [
        {
          "output_type": "stream",
          "name": "stdout",
          "text": [
            "hello world 2!\n"
          ]
        }
      ]
    }
  ]
}