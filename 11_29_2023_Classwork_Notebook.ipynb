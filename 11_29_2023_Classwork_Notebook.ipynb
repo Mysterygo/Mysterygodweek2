{
  "nbformat": 4,
  "nbformat_minor": 0,
  "metadata": {
    "colab": {
      "provenance": [],
      "collapsed_sections": [
        "nlLXEG6dOMnH"
      ],
      "include_colab_link": true
    },
    "kernelspec": {
      "name": "python3",
      "display_name": "Python 3"
    },
    "language_info": {
      "name": "python"
    }
  },
  "cells": [
    {
      "cell_type": "markdown",
      "metadata": {
        "id": "view-in-github",
        "colab_type": "text"
      },
      "source": [
        "<a href=\"https://colab.research.google.com/github/Mysterygo/Mysterygodweek2/blob/main/11_29_2023_Classwork_Notebook.ipynb\" target=\"_parent\"><img src=\"https://colab.research.google.com/assets/colab-badge.svg\" alt=\"Open In Colab\"/></a>"
      ]
    },
    {
      "cell_type": "markdown",
      "source": [
        "**Week of 11.29.2023: if Statements**\n",
        "---\n",
        "\n",
        "<br>\n",
        "\n",
        "<br>\n"
      ],
      "metadata": {
        "id": "K3JVwUgVElwe"
      }
    },
    {
      "cell_type": "markdown",
      "source": [
        "<a name=\"p1\"></a>\n",
        "\n",
        "---\n",
        "## **Part 1: if Statements**\n",
        "---"
      ],
      "metadata": {
        "id": "vFusVI8O6sd-"
      }
    },
    {
      "cell_type": "markdown",
      "source": [
        "#### **Problem #1.1**\n",
        "\n",
        "**Together**, create a tuple!"
      ],
      "metadata": {
        "id": "4EgRMGgY7J-X"
      }
    },
    {
      "cell_type": "code",
      "source": [
        "coding_languages = ('python', 'java', chat\n",
        "                    'c', 'c++', 'html')"
      ],
      "metadata": {
        "id": "T8xD_JEjY5yf",
        "colab": {
          "base_uri": "https://localhost:8080/",
          "height": 70
        },
        "outputId": "8b3bdc80-2a40-49cc-8708-e8a3eca6cd1d"
      },
      "execution_count": null,
      "outputs": [
        {
          "output_type": "stream",
          "name": "stdout",
          "text": [
            "<class 'tuple'>\n",
            "apple\n"
          ]
        },
        {
          "output_type": "execute_result",
          "data": {
            "text/plain": [
              "'apple'"
            ],
            "application/vnd.google.colaboratory.intrinsic+json": {
              "type": "string"
            }
          },
          "metadata": {},
          "execution_count": 8
        }
      ]
    },
    {
      "cell_type": "markdown",
      "source": [
        "#### **Problem #1.2**\n",
        "\n",
        "**Independently**, create a tuple showing the first 10 whole numbers and access the first item."
      ],
      "metadata": {
        "id": "0m36jq9PY4uY"
      }
    },
    {
      "cell_type": "code",
      "source": [
        "whole_numbers = (1, 2, 3, 4, 5, 6, 7, 8, 9, 10)\n",
        "print(whole_numbers[0])"
      ],
      "metadata": {
        "id": "m2RLNjUkU4iW",
        "colab": {
          "base_uri": "https://localhost:8080/"
        },
        "outputId": "d4ba11be-fa48-434f-eb36-84c5bb2a49d9"
      },
      "execution_count": null,
      "outputs": [
        {
          "output_type": "stream",
          "name": "stdout",
          "text": [
            "1\n"
          ]
        }
      ]
    },
    {
      "cell_type": "markdown",
      "source": [
        "#### **Problem #1.3**\n",
        "\n",
        "**Together**, let's try to run this code!"
      ],
      "metadata": {
        "id": "PAkOUDniU3vj"
      }
    },
    {
      "cell_type": "code",
      "source": [
        "lwsd_middle_schools= (\"evergreen\", \"inglewood\", \"kamiakin\")\n",
        "lwsd_middle_schools.append(\"finn hill\")"
      ],
      "metadata": {
        "id": "Gxm7jMAKYzz7",
        "colab": {
          "base_uri": "https://localhost:8080/",
          "height": 193
        },
        "outputId": "c743c60c-754b-42ed-aae0-ed6fc40ec33d"
      },
      "execution_count": null,
      "outputs": [
        {
          "output_type": "error",
          "ename": "AttributeError",
          "evalue": "ignored",
          "traceback": [
            "\u001b[0;31m---------------------------------------------------------------------------\u001b[0m",
            "\u001b[0;31mAttributeError\u001b[0m                            Traceback (most recent call last)",
            "\u001b[0;32m<ipython-input-10-1e266fdb5afd>\u001b[0m in \u001b[0;36m<cell line: 2>\u001b[0;34m()\u001b[0m\n\u001b[1;32m      1\u001b[0m \u001b[0mlwsd_middle_schools\u001b[0m\u001b[0;34m=\u001b[0m \u001b[0;34m(\u001b[0m\u001b[0;34m\"evergreen\"\u001b[0m\u001b[0;34m,\u001b[0m \u001b[0;34m\"inglewood\"\u001b[0m\u001b[0;34m,\u001b[0m \u001b[0;34m\"kamiakin\"\u001b[0m\u001b[0;34m)\u001b[0m\u001b[0;34m\u001b[0m\u001b[0;34m\u001b[0m\u001b[0m\n\u001b[0;32m----> 2\u001b[0;31m \u001b[0mlwsd_middle_schools\u001b[0m\u001b[0;34m.\u001b[0m\u001b[0mappend\u001b[0m\u001b[0;34m(\u001b[0m\u001b[0;34m\"finn hill\"\u001b[0m\u001b[0;34m)\u001b[0m\u001b[0;34m\u001b[0m\u001b[0;34m\u001b[0m\u001b[0m\n\u001b[0m",
            "\u001b[0;31mAttributeError\u001b[0m: 'tuple' object has no attribute 'append'"
          ]
        }
      ]
    }
  ]
}