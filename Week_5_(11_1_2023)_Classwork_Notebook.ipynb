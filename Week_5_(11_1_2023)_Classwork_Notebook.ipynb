{
  "nbformat": 4,
  "nbformat_minor": 0,
  "metadata": {
    "colab": {
      "provenance": [],
      "collapsed_sections": [
        "nlLXEG6dOMnH"
      ],
      "include_colab_link": true
    },
    "kernelspec": {
      "name": "python3",
      "display_name": "Python 3"
    },
    "language_info": {
      "name": "python"
    }
  },
  "cells": [
    {
      "cell_type": "markdown",
      "metadata": {
        "id": "view-in-github",
        "colab_type": "text"
      },
      "source": [
        "<a href=\"https://colab.research.google.com/github/Mysterygo/Mysterygodweek2/blob/main/Week_5_(11_1_2023)_Classwork_Notebook.ipynb\" target=\"_parent\"><img src=\"https://colab.research.google.com/assets/colab-badge.svg\" alt=\"Open In Colab\"/></a>"
      ]
    },
    {
      "cell_type": "markdown",
      "source": [
        "**Week 5: Casting Datatypes, Input, Basics of Lists**\n",
        "---\n",
        "\n",
        "<br>\n",
        "\n",
        "<br>\n",
        "\n",
        "### **Learning Objectives**\n",
        "By the end of this lab, we will:\n",
        "* Check what datatype a value is\n",
        "* Cast or change the datatype for a value\n",
        "* Take the input from a user\n",
        "* How to create a list\n",
        "* How to select a certain element from a list\n"
      ],
      "metadata": {
        "id": "K3JVwUgVElwe"
      }
    },
    {
      "cell_type": "markdown",
      "source": [
        "<a name=\"p1\"></a>\n",
        "\n",
        "---\n",
        "## **Part 1: Casting**\n",
        "---"
      ],
      "metadata": {
        "id": "vFusVI8O6sd-"
      }
    },
    {
      "cell_type": "markdown",
      "source": [
        "#### **Problem #1.1**\n",
        "\n",
        "**Together**, let's check the type of data this value is!"
      ],
      "metadata": {
        "id": "4EgRMGgY7J-X"
      }
    },
    {
      "cell_type": "code",
      "source": [
        "value = 2.0\n",
        "type(value)"
      ],
      "metadata": {
        "id": "T8xD_JEjY5yf",
        "outputId": "5d7da563-60ed-4603-8e21-990abfac0295",
        "colab": {
          "base_uri": "https://localhost:8080/"
        }
      },
      "execution_count": 13,
      "outputs": [
        {
          "output_type": "execute_result",
          "data": {
            "text/plain": [
              "float"
            ]
          },
          "metadata": {},
          "execution_count": 13
        }
      ]
    },
    {
      "cell_type": "markdown",
      "source": [
        "#### **Problem #1.2**\n",
        "\n",
        "**Independently**, let's check what type data this is!"
      ],
      "metadata": {
        "id": "0m36jq9PY4uY"
      }
    },
    {
      "cell_type": "code",
      "source": [
        "value = \"pizza\"\n",
        "type(value)"
      ],
      "metadata": {
        "id": "m2RLNjUkU4iW",
        "outputId": "cddad8e3-9571-4eb1-916a-bc0dd5160766",
        "colab": {
          "base_uri": "https://localhost:8080/"
        }
      },
      "execution_count": null,
      "outputs": [
        {
          "output_type": "execute_result",
          "data": {
            "text/plain": [
              "str"
            ]
          },
          "metadata": {},
          "execution_count": 3
        }
      ]
    },
    {
      "cell_type": "markdown",
      "source": [
        "#### **Problem #1.3**\n",
        "\n",
        "**Together**, let's try to run this code!"
      ],
      "metadata": {
        "id": "PAkOUDniU3vj"
      }
    },
    {
      "cell_type": "code",
      "source": [
        "num_of_apples = \"3\"\n",
        "num_of_bananas = \"5\"\n",
        "num_of_fruits = num_of_apples+num_of_bananas\n",
        "print(num_of_fruits)"
      ],
      "metadata": {
        "id": "Gxm7jMAKYzz7",
        "colab": {
          "base_uri": "https://localhost:8080/"
        },
        "outputId": "1e8094eb-ca16-4a83-dacb-d6bacacd5a74"
      },
      "execution_count": null,
      "outputs": [
        {
          "output_type": "stream",
          "name": "stdout",
          "text": [
            "35\n"
          ]
        }
      ]
    },
    {
      "cell_type": "markdown",
      "source": [
        "#### **Problem #1.4**\n",
        "\n",
        "**Independently**, try to fix this code!"
      ],
      "metadata": {
        "id": "BebC_FRXVPy6"
      }
    },
    {
      "cell_type": "code",
      "source": [
        "length = \"3\"\n",
        "width = 5\n",
        "area = length*width\n",
        "print(area)"
      ],
      "metadata": {
        "colab": {
          "base_uri": "https://localhost:8080/"
        },
        "outputId": "02ef330c-bdce-4ab8-a359-80b2f9b3a6f6",
        "id": "bBxKmUtyVOKx"
      },
      "execution_count": null,
      "outputs": [
        {
          "output_type": "stream",
          "name": "stdout",
          "text": [
            "35\n"
          ]
        }
      ]
    },
    {
      "cell_type": "markdown",
      "source": [
        "<a name=\"p1\"></a>\n",
        "\n",
        "---\n",
        "## **Part 2: Input**\n",
        "---"
      ],
      "metadata": {
        "id": "nlLXEG6dOMnH"
      }
    },
    {
      "cell_type": "markdown",
      "source": [
        "#### **Problem #2.1**\n",
        "\n",
        "**Together**, let's create a input asking for a favorite food"
      ],
      "metadata": {
        "id": "fW0v28kFPKJI"
      }
    },
    {
      "cell_type": "code",
      "source": [
        "username = input(\"Enter your favorite food\")"
      ],
      "metadata": {
        "id": "aKfg9lCLZJzy",
        "outputId": "69547081-bff4-407f-e883-5b1f19cb9576",
        "colab": {
          "base_uri": "https://localhost:8080/"
        }
      },
      "execution_count": null,
      "outputs": [
        {
          "name": "stdout",
          "output_type": "stream",
          "text": [
            "Enter your favorite foodButter Chicken\n"
          ]
        }
      ]
    },
    {
      "cell_type": "markdown",
      "source": [
        "#### **Problem #2.2**\n",
        "\n",
        "**Independently**,  create inputs asking for a person's name, age, school, and favorite class. Print them out."
      ],
      "metadata": {
        "id": "3ibIHkdzZ_RY"
      }
    },
    {
      "cell_type": "code",
      "source": [
        "schools = input(\"What is your school?:\")\n",
        "name = input(\"Enter your name:\")\n",
        "age = input(\"Enter your age:\")\n",
        "favorite_class = input(\"Enter your favorite class:\")"
      ],
      "metadata": {
        "id": "y4bYp0JCROef",
        "outputId": "c5c4ed47-11f7-46ae-c918-a1dec573310d",
        "colab": {
          "base_uri": "https://localhost:8080/"
        }
      },
      "execution_count": null,
      "outputs": [
        {
          "name": "stdout",
          "output_type": "stream",
          "text": [
            "What is your school?:Evergreen\n",
            "Enter your name:Viraj\n",
            "Enter your age:11\n",
            "Enter your favorite class:Science\n"
          ]
        }
      ]
    },
    {
      "cell_type": "markdown",
      "source": [
        "<a name=\"p1\"></a>\n",
        "\n",
        "---\n",
        "## **Part 3: Lists**\n",
        "---"
      ],
      "metadata": {
        "id": "n0qXNd5WZJgf"
      }
    },
    {
      "cell_type": "markdown",
      "source": [
        "#### **Problem #3.1**\n",
        "\n",
        "**Together**, let's create a list."
      ],
      "metadata": {
        "id": "8qCgk37IZJgf"
      }
    },
    {
      "cell_type": "code",
      "source": [
        "numbers = [1, 2, 3, 4, 5, 6, 7]"
      ],
      "metadata": {
        "id": "XMpr-2RcZJgf"
      },
      "execution_count": null,
      "outputs": []
    },
    {
      "cell_type": "markdown",
      "source": [
        "#### **Problem #2.2**\n",
        "\n",
        "**Together**,  let's select an element from that list."
      ],
      "metadata": {
        "id": "4o1zR2Z8ZJgg"
      }
    },
    {
      "cell_type": "code",
      "source": [
        "numbers = [1, 2, 3,4, 5, 6, 7]\n",
        "print(numbers[0])"
      ],
      "metadata": {
        "id": "NBuMx9ksZJgg",
        "outputId": "4a00dbca-e3bb-4739-92c1-63a523aee7f9",
        "colab": {
          "base_uri": "https://localhost:8080/"
        }
      },
      "execution_count": null,
      "outputs": [
        {
          "output_type": "stream",
          "name": "stdout",
          "text": [
            "1\n"
          ]
        }
      ]
    }
  ]
}